{
  "nbformat": 4,
  "nbformat_minor": 0,
  "metadata": {
    "colab": {
      "name": "bioimpedance.ipynb",
      "provenance": [],
      "collapsed_sections": [],
      "mount_file_id": "1fgYZjaoXBp9QL6ZElzy_a7tLgqqoEAMT",
      "authorship_tag": "ABX9TyN0Gh8hkSjjIBHnenOrw1np",
      "include_colab_link": true
    },
    "kernelspec": {
      "name": "python3",
      "display_name": "Python 3"
    },
    "language_info": {
      "name": "python"
    }
  },
  "cells": [
    {
      "cell_type": "markdown",
      "metadata": {
        "id": "view-in-github",
        "colab_type": "text"
      },
      "source": [
        "<a href=\"https://colab.research.google.com/github/adnanelahi/bioimpedance/blob/main/bioimpedance.ipynb\" target=\"_parent\"><img src=\"https://colab.research.google.com/assets/colab-badge.svg\" alt=\"Open In Colab\"/></a>"
      ]
    },
    {
      "cell_type": "markdown",
      "metadata": {
        "id": "Dgn-oJIvQTmg"
      },
      "source": [
        "Impedance Analysis Library v0.2"
      ]
    },
    {
      "cell_type": "code",
      "metadata": {
        "id": "b_YbC-rEehc4"
      },
      "source": [
        "import numpy as np\n",
        "import matplotlib.pyplot as plt\n",
        "from matplotlib.cm import get_cmap"
      ],
      "execution_count": null,
      "outputs": []
    },
    {
      "cell_type": "code",
      "metadata": {
        "id": "FSoq9DGnVUHb"
      },
      "source": [
        "def readAutoLabFile(filename):\n",
        "  \"\"\"\n",
        "  Reads a single measurement text file and converts it into a numpy array\n",
        "\n",
        "  Parameters\n",
        "  ----------\n",
        "  f_path_name_template : str \n",
        "    filename along with a path. \n",
        "  \n",
        "  Returns\n",
        "  ---------\n",
        "  Z : numpy array\n",
        "    impedance measurement\n",
        "  f: numpy array\n",
        "    frequencies\n",
        "  \"\"\"  \n",
        "  # Read TAB delimited AutoLab generated text file and skip first row\n",
        "  data = np.genfromtxt(filename, delimiter='\\t', skip_header=1)\n",
        "  # For some reason AutoLab stores high frequency data first. Hence the flip.\n",
        "  #data = np.flip(data, axis = 0)\n",
        "  # Convert to a complex number\n",
        "  f = data[:,0]\n",
        "  Z = data[:, 1] + 1j*data[:,2]\n",
        "  return f, Z"
      ],
      "execution_count": null,
      "outputs": []
    },
    {
      "cell_type": "code",
      "metadata": {
        "id": "xBe_VZ8agqGC"
      },
      "source": [
        "def read_impedance_files (filenames):\n",
        "\n",
        "  \"\"\"\n",
        "  Read multiple measurement text files and convert it into a 2D numpy array\n",
        "\n",
        "  Parameters\n",
        "  ----------\n",
        "  filenames : list  \n",
        "    Contains a list of strings with paths to each measurement file\n",
        "  \n",
        "  Returns\n",
        "  ---------\n",
        "  Z : numpy array\n",
        "    impedance measurements\n",
        "  f: numpy array\n",
        "    frequencies\n",
        "  \"\"\"\n",
        "  Z=[]\n",
        "  f=[]\n",
        "  for fname in filenames:\n",
        "    f_, Z_ = readAutoLabFile(fname + '.txt')\n",
        "    Z.append(Z_)\n",
        "    f.append(f_)\n",
        "    if (np.array(Z[0]).size != Z_.size):\n",
        "       raise Exception('Data points in current measurement ({}) exceed the first measurement length ({})\\n{}.'.format(Z_.size,np.array(Z[0]).size, fname))\n",
        "  return np.array(f).T, np.array(Z).T"
      ],
      "execution_count": null,
      "outputs": []
    },
    {
      "cell_type": "code",
      "metadata": {
        "id": "4iP3h9fvIZXm"
      },
      "source": [
        "def conductance(Z):\n",
        "  \"\"\"\n",
        "  Converts impedance to conductance\n",
        "\n",
        "  Parameters\n",
        "  ----------\n",
        "  Z : Numpy array with complex numbers \n",
        "    One impedance measurement in each column\n",
        "  \n",
        "  Returns\n",
        "  ---------\n",
        "  G : Numpy array\n",
        "  \"\"\"\n",
        "  G = Z.real/(Z.real**2 + Z.imag**2)\n",
        "  return G"
      ],
      "execution_count": null,
      "outputs": []
    },
    {
      "cell_type": "code",
      "metadata": {
        "id": "xpB9xdXm8bm4"
      },
      "source": [
        "def cell_constant(freq,Z,ref_er,ref_conductivity):\n",
        "  \"\"\"\n",
        "  Computes cell constant from the cell constant forumala\n",
        "\n",
        "  Parameters\n",
        "  ----------\n",
        "  freq : Numpy array \n",
        "    frequencies of measurement in each column\n",
        "  Z : Numpy array with complex numbers \n",
        "    One impedance measurement in each column \n",
        "  \n",
        "  Returns\n",
        "  ---------\n",
        "  k : double\n",
        "    cell constant\n",
        "  \"\"\"\n",
        "  e0 = 8.8541878176e-12\n",
        "  w = 2*np.pi*freq\n",
        "  k = abs(Z)*np.sqrt(ref_conductivity**2+(w**2)*(e0**2)*(ref_er**2))\n",
        "  return k"
      ],
      "execution_count": null,
      "outputs": []
    },
    {
      "cell_type": "code",
      "metadata": {
        "id": "nX8DAZvQk9Z1"
      },
      "source": [
        "def compute_conductivity(freq, Z, kappa):\n",
        "  \"\"\"\n",
        "  Calculates conductivity based on the   value of kappa provided in parameters.\n",
        "\n",
        "  Parameters\n",
        "  ----------\n",
        "  freq : numpy array\n",
        "    frequencies \n",
        "  Z : Numpy array with complex numbers  \n",
        "    One measurement in each column\n",
        "  kappa : double\n",
        "    cell constant\n",
        "  \n",
        "  Returns\n",
        "  ---------\n",
        "\n",
        "  \"\"\"\n",
        "  G= conductance(Z)\n",
        "  conductivity = G/kappa\n",
        "  return conductivity, G"
      ],
      "execution_count": null,
      "outputs": []
    },
    {
      "cell_type": "code",
      "metadata": {
        "id": "0PKl7_KqgyZ2"
      },
      "source": [
        "def read_impedance_data(filenames, group_name):\n",
        "  \"\"\"\n",
        "  Reads impedance measurements \n",
        "  Packs data into a dictionary\n",
        "\n",
        "  Parameters\n",
        "  ----------\n",
        "  \n",
        "  Returns\n",
        "  ---------\n",
        "\n",
        "  \"\"\"\n",
        "  data = {}\n",
        "  freq, Z = read_impedance_files(filenames)\n",
        "  data['f'] = freq\n",
        "  data['Z'] = Z\n",
        "  data['group_name'] = group_name\n",
        "  return data"
      ],
      "execution_count": null,
      "outputs": []
    },
    {
      "cell_type": "code",
      "metadata": {
        "id": "slDZQzcph_rw"
      },
      "source": [
        "def read_conductivity_data(data, kappa):\n",
        "  \"\"\"\n",
        "  Calculates conductivity based on the value of kappa provided in parameters.\n",
        "  Packs data into a dictionary\n",
        "\n",
        "  Parameters\n",
        "  ----------\n",
        "  \n",
        "  Returns\n",
        "  ---------\n",
        "\n",
        "  \"\"\"\n",
        "  conductivity, G = compute_conductivity( data['f'],  data['Z'], Z, kappa)\n",
        "  data['conductivity'] = conductivity\n",
        "  data['G'] = G\n",
        "  data['k'] = kappa\n",
        "  data['sample_title'] = sample_title \n",
        "  return data"
      ],
      "execution_count": null,
      "outputs": []
    },
    {
      "cell_type": "code",
      "metadata": {
        "id": "45bQYJiSadVL"
      },
      "source": [
        "def plot_mean_error(axes, x, y, xlabel, ylabel,label, color, alpha, plotfunc):\n",
        "  \"\"\"\n",
        "  Takes a number of measurements stored in each column on numpy array y, \n",
        "  and plots mean and standard deviation in the same plot.\n",
        "\n",
        "  Parameters\n",
        "  ----------\n",
        "  axes : numpy array\n",
        "    frequencies measurement in each column\n",
        "  x : Numpy array  \n",
        "    frequencies of measurement in each column\n",
        "  y : numpy array\n",
        "    one measurement in each column\n",
        "  Returns\n",
        "  ---------\n",
        "\n",
        "  \"\"\"\n",
        "  \n",
        "  m = np.mean(y,axis = 1)\n",
        "  e = np.std(y, axis = 1)\n",
        "  plotfunc(x[:,1],m,'d', label=label, color = color)\n",
        "  axes.fill_between(x[:,1],m+e,m-e, alpha = alpha, facecolor = color)\n",
        "  #axes.text(x[0,0]-50000, max(m), str(round(m[0],3)), fontsize=16)\n",
        "  #axes.text(x[-1,-1], max(m), str(round(m[-1],3)), fontsize=16)\n",
        "  axes.set_xlabel(xlabel, fontsize = 16)\n",
        "  axes.set_ylabel(ylabel, fontsize = 16)\n",
        "  axes.tick_params(axis='both', which='major', labelsize=16)\n",
        "  axes.grid(False)\n"
      ],
      "execution_count": null,
      "outputs": []
    },
    {
      "cell_type": "code",
      "metadata": {
        "id": "zTRatQmrz9H8"
      },
      "source": [
        "def plot_each_measurement(axes, x, y, xlabel, ylabel,label, color, alpha, plotfunc):\n",
        "  \"\"\"\n",
        "  Takes a number of measurements stored in each column on numpy array y, \n",
        "  and plots mean and standard deviation in the same plot.\n",
        "\n",
        "  Parameters\n",
        "  ----------\n",
        "  axes : numpy array\n",
        "    frequencies measurement in each column\n",
        "  x : Numpy array  \n",
        "    frequencies of measurement in each column\n",
        "  y : numpy array\n",
        "    one measurement in each column\n",
        "  Returns\n",
        "  ---------\n",
        "\n",
        "  \"\"\"\n",
        "  \n",
        "  total_measurements = y.shape[1]\n",
        "  for i in range(total_measurements):\n",
        "    plotfunc(x[:,i],y[:,i],'.', label=label[i])\n",
        "  axes.set_xlabel(xlabel, fontsize = 16)\n",
        "  axes.set_ylabel(ylabel, fontsize = 16)\n",
        "  axes.tick_params(axis='both', which='major', labelsize=16)\n",
        "  axes.grid(False)"
      ],
      "execution_count": null,
      "outputs": []
    },
    {
      "cell_type": "markdown",
      "metadata": {
        "id": "pNzqsNfjuDMy"
      },
      "source": [
        "# Analyse standard liquid measurements"
      ]
    },
    {
      "cell_type": "code",
      "metadata": {
        "id": "BJOQs6UZlsuw"
      },
      "source": [
        "def test_plot_mean_error():\n",
        "  BASE_DATASET_PATH = '/content/drive/My Drive/Colab Notebooks/libs/bioimpedance/testdata/Saline 0.1/'\n",
        "  #import os\n",
        "  #from os import listdir\n",
        "  #listdir(BASE_DATASET_PATH)\n",
        "  filenames = ['saline0.1_temp20.3_second_001','saline0.1_temp20.3_second_002','saline0.1_temp20.3_second_003']\n",
        "  group_name = 'NaCl-01'\n",
        "  filenamespath = [BASE_DATASET_PATH + fname for fname in filenames]\n",
        "  name = \"Accent\"\n",
        "  cmap = get_cmap(name)  # type: matplotlib.colors.ListedColormap\n",
        "  color = iter(cmap.colors)  # type: list\n",
        "\n",
        "  testdata = {}\n",
        "  # Read data from measurement files\n",
        "  testdata[group_name] = read_impedance_data(filenamespath, group_name)\n",
        "  # Plot impedance data\n",
        "  fig, ax = plt.subplots(figsize = (10,6))\n",
        "  plot_mean_error(ax, testdata[group_name]['f'], abs(testdata[group_name]['Z']), 'f [Hz]','$|Z| (\\Omega)$',testdata[group_name]['group_name'],next(color),0.5, ax.loglog )\n",
        "  ax.legend(loc='center left', bbox_to_anchor=(1, 0.5))\n",
        "  fig.suptitle(testdata[group_name]['group_name'] + ' - Impedance', fontsize = 16) \n",
        "  plt.show()"
      ],
      "execution_count": null,
      "outputs": []
    },
    {
      "cell_type": "code",
      "metadata": {
        "id": "i3GhX8Kmydpb"
      },
      "source": [
        "#test_plot_mean_error()"
      ],
      "execution_count": null,
      "outputs": []
    },
    {
      "cell_type": "code",
      "metadata": {
        "id": "kC-PpSD7zjOX"
      },
      "source": [
        "def test_plot_each_measurement():\n",
        "  BASE_DATASET_PATH = '/content/drive/My Drive/Colab Notebooks/libs/bioimpedance/testdata/Saline 0.1/'\n",
        "  #import os\n",
        "  #from os import listdir\n",
        "  #listdir(BASE_DATASET_PATH)\n",
        "  filenames = ['saline0.1_temp20.3_second_001','saline0.1_temp20.3_second_002','saline0.1_temp20.3_second_003']\n",
        "  group_name = 'NaCl-01'\n",
        "  filenamespath = [BASE_DATASET_PATH + fname for fname in filenames]\n",
        "  name = \"Set1\"\n",
        "  cmap = get_cmap(name)  # type: matplotlib.colors.ListedColormap\n",
        "  color = iter(cmap.colors)  # type: list\n",
        "\n",
        "  testdata = {}\n",
        "  # Read data from measurement files\n",
        "  testdata[group_name] = read_impedance_data(filenamespath, group_name)\n",
        "  # Plot impedance data\n",
        "  fig, ax = plt.subplots(figsize = (10,6))\n",
        "  plot_each_measurement(ax, testdata[group_name]['f'], abs(testdata[group_name]['Z']), 'f [Hz]','$|Z| (\\Omega)$',filenames,next(color),1, ax.semilogx )\n",
        "  plot_mean_error(ax, testdata[group_name]['f'], abs(testdata[group_name]['Z']), 'f [Hz]','$|Z| (\\Omega)$','Mean, STD (shaded)',next(color),0.25, ax.loglog )\n",
        "  ax.legend(loc='center left', bbox_to_anchor=(1, 0.5))\n",
        "  fig.suptitle(testdata[group_name]['group_name'] + ' - Impedance', fontsize = 16) \n",
        "  plt.show()"
      ],
      "execution_count": null,
      "outputs": []
    },
    {
      "cell_type": "code",
      "metadata": {
        "id": "dUjS_-VC5uel"
      },
      "source": [
        "#test_plot_each_measurement()"
      ],
      "execution_count": null,
      "outputs": []
    }
  ]
}